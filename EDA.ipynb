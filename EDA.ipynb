{
 "cells": [
  {
   "attachments": {},
   "cell_type": "markdown",
   "metadata": {},
   "source": [
    "# Delivery Time Exploratory Data Analysis\n",
    "## by Albert Hunduza"
   ]
  },
  {
   "attachments": {},
   "cell_type": "markdown",
   "metadata": {},
   "source": [
    "***** importing dependencies *****"
   ]
  },
  {
   "cell_type": "code",
   "execution_count": 1,
   "metadata": {},
   "outputs": [],
   "source": [
    "import numpy as np\n",
    "import pandas as pd\n",
    "import seaborn as sns\n",
    "import matplotlib.pyplot as plt"
   ]
  },
  {
   "attachments": {},
   "cell_type": "markdown",
   "metadata": {},
   "source": [
    "***** loading dataset as pd dataframe *****"
   ]
  },
  {
   "cell_type": "code",
   "execution_count": 2,
   "metadata": {},
   "outputs": [],
   "source": [
    "deliv_df = pd.read_csv('deliverytimehistory.txt')"
   ]
  },
  {
   "cell_type": "code",
   "execution_count": 3,
   "metadata": {},
   "outputs": [
    {
     "data": {
      "text/html": [
       "<div>\n",
       "<style scoped>\n",
       "    .dataframe tbody tr th:only-of-type {\n",
       "        vertical-align: middle;\n",
       "    }\n",
       "\n",
       "    .dataframe tbody tr th {\n",
       "        vertical-align: top;\n",
       "    }\n",
       "\n",
       "    .dataframe thead th {\n",
       "        text-align: right;\n",
       "    }\n",
       "</style>\n",
       "<table border=\"1\" class=\"dataframe\">\n",
       "  <thead>\n",
       "    <tr style=\"text-align: right;\">\n",
       "      <th></th>\n",
       "      <th>ID</th>\n",
       "      <th>Delivery_person_ID</th>\n",
       "      <th>Delivery_person_Age</th>\n",
       "      <th>Delivery_person_Ratings</th>\n",
       "      <th>Restaurant_latitude</th>\n",
       "      <th>Restaurant_longitude</th>\n",
       "      <th>Delivery_location_latitude</th>\n",
       "      <th>Delivery_location_longitude</th>\n",
       "      <th>Type_of_order</th>\n",
       "      <th>Type_of_vehicle</th>\n",
       "      <th>Time_taken(min)</th>\n",
       "    </tr>\n",
       "  </thead>\n",
       "  <tbody>\n",
       "    <tr>\n",
       "      <th>0</th>\n",
       "      <td>4607</td>\n",
       "      <td>INDORES13DEL02</td>\n",
       "      <td>37</td>\n",
       "      <td>4.9</td>\n",
       "      <td>22.745049</td>\n",
       "      <td>75.892471</td>\n",
       "      <td>22.765049</td>\n",
       "      <td>75.912471</td>\n",
       "      <td>Snack</td>\n",
       "      <td>motorcycle</td>\n",
       "      <td>24</td>\n",
       "    </tr>\n",
       "    <tr>\n",
       "      <th>1</th>\n",
       "      <td>B379</td>\n",
       "      <td>BANGRES18DEL02</td>\n",
       "      <td>34</td>\n",
       "      <td>4.5</td>\n",
       "      <td>12.913041</td>\n",
       "      <td>77.683237</td>\n",
       "      <td>13.043041</td>\n",
       "      <td>77.813237</td>\n",
       "      <td>Snack</td>\n",
       "      <td>scooter</td>\n",
       "      <td>33</td>\n",
       "    </tr>\n",
       "    <tr>\n",
       "      <th>2</th>\n",
       "      <td>5D6D</td>\n",
       "      <td>BANGRES19DEL01</td>\n",
       "      <td>23</td>\n",
       "      <td>4.4</td>\n",
       "      <td>12.914264</td>\n",
       "      <td>77.678400</td>\n",
       "      <td>12.924264</td>\n",
       "      <td>77.688400</td>\n",
       "      <td>Drinks</td>\n",
       "      <td>motorcycle</td>\n",
       "      <td>26</td>\n",
       "    </tr>\n",
       "    <tr>\n",
       "      <th>3</th>\n",
       "      <td>7A6A</td>\n",
       "      <td>COIMBRES13DEL02</td>\n",
       "      <td>38</td>\n",
       "      <td>4.7</td>\n",
       "      <td>11.003669</td>\n",
       "      <td>76.976494</td>\n",
       "      <td>11.053669</td>\n",
       "      <td>77.026494</td>\n",
       "      <td>Buffet</td>\n",
       "      <td>motorcycle</td>\n",
       "      <td>21</td>\n",
       "    </tr>\n",
       "    <tr>\n",
       "      <th>4</th>\n",
       "      <td>70A2</td>\n",
       "      <td>CHENRES12DEL01</td>\n",
       "      <td>32</td>\n",
       "      <td>4.6</td>\n",
       "      <td>12.972793</td>\n",
       "      <td>80.249982</td>\n",
       "      <td>13.012793</td>\n",
       "      <td>80.289982</td>\n",
       "      <td>Snack</td>\n",
       "      <td>scooter</td>\n",
       "      <td>30</td>\n",
       "    </tr>\n",
       "  </tbody>\n",
       "</table>\n",
       "</div>"
      ],
      "text/plain": [
       "     ID Delivery_person_ID  Delivery_person_Age  Delivery_person_Ratings  \\\n",
       "0  4607     INDORES13DEL02                   37                      4.9   \n",
       "1  B379     BANGRES18DEL02                   34                      4.5   \n",
       "2  5D6D     BANGRES19DEL01                   23                      4.4   \n",
       "3  7A6A    COIMBRES13DEL02                   38                      4.7   \n",
       "4  70A2     CHENRES12DEL01                   32                      4.6   \n",
       "\n",
       "   Restaurant_latitude  Restaurant_longitude  Delivery_location_latitude  \\\n",
       "0            22.745049             75.892471                   22.765049   \n",
       "1            12.913041             77.683237                   13.043041   \n",
       "2            12.914264             77.678400                   12.924264   \n",
       "3            11.003669             76.976494                   11.053669   \n",
       "4            12.972793             80.249982                   13.012793   \n",
       "\n",
       "   Delivery_location_longitude Type_of_order Type_of_vehicle  Time_taken(min)  \n",
       "0                    75.912471        Snack      motorcycle                24  \n",
       "1                    77.813237        Snack         scooter                33  \n",
       "2                    77.688400       Drinks      motorcycle                26  \n",
       "3                    77.026494       Buffet      motorcycle                21  \n",
       "4                    80.289982        Snack         scooter                30  "
      ]
     },
     "execution_count": 3,
     "metadata": {},
     "output_type": "execute_result"
    }
   ],
   "source": [
    "deliv_df.head()"
   ]
  },
  {
   "cell_type": "code",
   "execution_count": 5,
   "metadata": {},
   "outputs": [
    {
     "data": {
      "text/html": [
       "<div>\n",
       "<style scoped>\n",
       "    .dataframe tbody tr th:only-of-type {\n",
       "        vertical-align: middle;\n",
       "    }\n",
       "\n",
       "    .dataframe tbody tr th {\n",
       "        vertical-align: top;\n",
       "    }\n",
       "\n",
       "    .dataframe thead th {\n",
       "        text-align: right;\n",
       "    }\n",
       "</style>\n",
       "<table border=\"1\" class=\"dataframe\">\n",
       "  <thead>\n",
       "    <tr style=\"text-align: right;\">\n",
       "      <th></th>\n",
       "      <th>Delivery_person_Age</th>\n",
       "      <th>Delivery_person_Ratings</th>\n",
       "      <th>Restaurant_latitude</th>\n",
       "      <th>Restaurant_longitude</th>\n",
       "      <th>Delivery_location_latitude</th>\n",
       "      <th>Delivery_location_longitude</th>\n",
       "      <th>Time_taken(min)</th>\n",
       "    </tr>\n",
       "  </thead>\n",
       "  <tbody>\n",
       "    <tr>\n",
       "      <th>count</th>\n",
       "      <td>45593.000000</td>\n",
       "      <td>45593.000000</td>\n",
       "      <td>45593.000000</td>\n",
       "      <td>45593.000000</td>\n",
       "      <td>45593.000000</td>\n",
       "      <td>45593.000000</td>\n",
       "      <td>45593.000000</td>\n",
       "    </tr>\n",
       "    <tr>\n",
       "      <th>mean</th>\n",
       "      <td>29.544075</td>\n",
       "      <td>4.632367</td>\n",
       "      <td>17.017729</td>\n",
       "      <td>70.231332</td>\n",
       "      <td>17.465186</td>\n",
       "      <td>70.845702</td>\n",
       "      <td>26.294607</td>\n",
       "    </tr>\n",
       "    <tr>\n",
       "      <th>std</th>\n",
       "      <td>5.696793</td>\n",
       "      <td>0.327708</td>\n",
       "      <td>8.185109</td>\n",
       "      <td>22.883647</td>\n",
       "      <td>7.335122</td>\n",
       "      <td>21.118812</td>\n",
       "      <td>9.383806</td>\n",
       "    </tr>\n",
       "    <tr>\n",
       "      <th>min</th>\n",
       "      <td>15.000000</td>\n",
       "      <td>1.000000</td>\n",
       "      <td>-30.905562</td>\n",
       "      <td>-88.366217</td>\n",
       "      <td>0.010000</td>\n",
       "      <td>0.010000</td>\n",
       "      <td>10.000000</td>\n",
       "    </tr>\n",
       "    <tr>\n",
       "      <th>25%</th>\n",
       "      <td>25.000000</td>\n",
       "      <td>4.600000</td>\n",
       "      <td>12.933284</td>\n",
       "      <td>73.170000</td>\n",
       "      <td>12.988453</td>\n",
       "      <td>73.280000</td>\n",
       "      <td>19.000000</td>\n",
       "    </tr>\n",
       "    <tr>\n",
       "      <th>50%</th>\n",
       "      <td>29.000000</td>\n",
       "      <td>4.700000</td>\n",
       "      <td>18.546947</td>\n",
       "      <td>75.898497</td>\n",
       "      <td>18.633934</td>\n",
       "      <td>76.002574</td>\n",
       "      <td>26.000000</td>\n",
       "    </tr>\n",
       "    <tr>\n",
       "      <th>75%</th>\n",
       "      <td>34.000000</td>\n",
       "      <td>4.800000</td>\n",
       "      <td>22.728163</td>\n",
       "      <td>78.044095</td>\n",
       "      <td>22.785049</td>\n",
       "      <td>78.107044</td>\n",
       "      <td>32.000000</td>\n",
       "    </tr>\n",
       "    <tr>\n",
       "      <th>max</th>\n",
       "      <td>50.000000</td>\n",
       "      <td>6.000000</td>\n",
       "      <td>30.914057</td>\n",
       "      <td>88.433452</td>\n",
       "      <td>31.054057</td>\n",
       "      <td>88.563452</td>\n",
       "      <td>54.000000</td>\n",
       "    </tr>\n",
       "  </tbody>\n",
       "</table>\n",
       "</div>"
      ],
      "text/plain": [
       "       Delivery_person_Age  Delivery_person_Ratings  Restaurant_latitude  \\\n",
       "count         45593.000000             45593.000000         45593.000000   \n",
       "mean             29.544075                 4.632367            17.017729   \n",
       "std               5.696793                 0.327708             8.185109   \n",
       "min              15.000000                 1.000000           -30.905562   \n",
       "25%              25.000000                 4.600000            12.933284   \n",
       "50%              29.000000                 4.700000            18.546947   \n",
       "75%              34.000000                 4.800000            22.728163   \n",
       "max              50.000000                 6.000000            30.914057   \n",
       "\n",
       "       Restaurant_longitude  Delivery_location_latitude  \\\n",
       "count          45593.000000                45593.000000   \n",
       "mean              70.231332                   17.465186   \n",
       "std               22.883647                    7.335122   \n",
       "min              -88.366217                    0.010000   \n",
       "25%               73.170000                   12.988453   \n",
       "50%               75.898497                   18.633934   \n",
       "75%               78.044095                   22.785049   \n",
       "max               88.433452                   31.054057   \n",
       "\n",
       "       Delivery_location_longitude  Time_taken(min)  \n",
       "count                 45593.000000     45593.000000  \n",
       "mean                     70.845702        26.294607  \n",
       "std                      21.118812         9.383806  \n",
       "min                       0.010000        10.000000  \n",
       "25%                      73.280000        19.000000  \n",
       "50%                      76.002574        26.000000  \n",
       "75%                      78.107044        32.000000  \n",
       "max                      88.563452        54.000000  "
      ]
     },
     "execution_count": 5,
     "metadata": {},
     "output_type": "execute_result"
    }
   ],
   "source": [
    "deliv_df.describe()"
   ]
  },
  {
   "cell_type": "code",
   "execution_count": 6,
   "metadata": {},
   "outputs": [
    {
     "data": {
      "text/plain": [
       "ID                             0\n",
       "Delivery_person_ID             0\n",
       "Delivery_person_Age            0\n",
       "Delivery_person_Ratings        0\n",
       "Restaurant_latitude            0\n",
       "Restaurant_longitude           0\n",
       "Delivery_location_latitude     0\n",
       "Delivery_location_longitude    0\n",
       "Type_of_order                  0\n",
       "Type_of_vehicle                0\n",
       "Time_taken(min)                0\n",
       "dtype: int64"
      ]
     },
     "execution_count": 6,
     "metadata": {},
     "output_type": "execute_result"
    }
   ],
   "source": [
    "# find the nan values\n",
    "deliv_df.isnull().sum()"
   ]
  },
  {
   "cell_type": "code",
   "execution_count": 7,
   "metadata": {},
   "outputs": [
    {
     "data": {
      "text/plain": [
       "(45593, 11)"
      ]
     },
     "execution_count": 7,
     "metadata": {},
     "output_type": "execute_result"
    }
   ],
   "source": [
    "deliv_df.shape"
   ]
  },
  {
   "attachments": {},
   "cell_type": "markdown",
   "metadata": {},
   "source": [
    "* Now that we have loaded the dataframe and gotten an overview we can start answering the following questions and any other related questions:\n",
    "    - How many delivery persons are there?\n",
    "    - What is the distrubtion and/or average age of delivery persons?\n",
    "    - What type of order type is the most popular?\n",
    "    - What is the most popular tyoe of delivery vehicle?\n",
    "    - What is the average distance per order?\n",
    "    - What is the average time taken per order?\n",
    "    - What factors affect delivery time the most?\n",
    "    - What is the average rating and what factors affect it the most? <br>\n",
    "    etc..."
   ]
  },
  {
   "cell_type": "code",
   "execution_count": null,
   "metadata": {},
   "outputs": [],
   "source": []
  }
 ],
 "metadata": {
  "kernelspec": {
   "display_name": "Python 3",
   "language": "python",
   "name": "python3"
  },
  "language_info": {
   "codemirror_mode": {
    "name": "ipython",
    "version": 3
   },
   "file_extension": ".py",
   "mimetype": "text/x-python",
   "name": "python",
   "nbconvert_exporter": "python",
   "pygments_lexer": "ipython3",
   "version": "3.10.5"
  },
  "orig_nbformat": 4
 },
 "nbformat": 4,
 "nbformat_minor": 2
}
